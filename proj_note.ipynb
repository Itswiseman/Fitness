{
 "cells": [
  {
   "cell_type": "markdown",
   "id": "314662e7-b027-4e00-aa7b-25bfa8dc6daa",
   "metadata": {
    "tags": []
   },
   "source": [
    "# Data Scientist Associate Practical Exam\n",
    "\n",
    "## Company Background\n",
    "GoalZone is a fitness club chain providing five types of fitness classes in Canada. Finally, the fitness classes schedule is back to normal after the COVID-19 restrictions are lifted. However, they have received many complaints from the customers about having a hard time booking a fitness class.\n",
    "\n",
    "From initial analysis, the program operation team found out that the fitness classes are always fully booked but are having a low attendance rate per class. To improve this situation, they would like to increase the class capacity for customers to sign up if a low attendance rate is predicted.  \n",
    "\n",
    "\n",
    "## Customer Question\n",
    "The operation manager has asked you to answer the following:\n",
    "- Can you predict the attendance rate for each fitness class? \n",
    "\n"
   ]
  },
  {
   "cell_type": "markdown",
   "id": "54ca6b9b-1826-423f-a386-fc26c6c250d7",
   "metadata": {
    "tags": []
   },
   "source": [
    "## Dataset\n",
    "The dataset contains the attendance information for the class scheduled this year so far. The data you will use for this analysis can be accessed here: `\"data/fitness_class.csv\"`\n",
    "\n",
    "| Column Name                     | Criteria                                                                                                                                                                        |\n",
    "|---------------------------------|---------------------------------------------------------------------------------------------------------------------------------------------------------------------------------|\n",
    "| Day of Week                     | Character, the day of the week the class was scheduled, one of values from “Mon” to “Sun”.                                                                                      |\n",
    "| Time                            | Character, the time of the day the class was scheduled, either \"AM\" or \"PM\".                                                                                                        |\n",
    "| Class Category                  | Character, the category of the fitness class, one of “Yoga”, “Aqua”, “Strength”, “HIIT”, or “Cycling”.                                                                          |\n",
    "| Days Before                     | Numeric, number of days the class stayed fully booked, maximum five days.                                                                                                       |\n",
    "| Class Capacity                  | Numeric, maximum number of members can sign up for that class, either 15 or 25.  The class capacity being 26 needs to be updated to 25.                                         |\n",
    "| Attendance                      | Numeric, number of members actually attended the class.                                                                                                                         |\n",
    "| Average Age                     | Numeric, average age of the members signing up for that class.  Remove rows that average age is smaller than 14 because group fitness class are for members aged 14 and order.  |\n",
    "| Number of New Students          | Numeric, number of new students signing up for this class.                                                                                                                      |\n",
    "| Number of Members Over 6 months | Numeric, number of members signing up for the class have been joining the club more than 6 months.                                                                              |                                                                                     |"
   ]
  },
  {
   "cell_type": "markdown",
   "id": "0bc4d3fc-7453-4248-bcd9-cc015b90f77a",
   "metadata": {
    "tags": []
   },
   "source": [
    "# Data Scientist Associate Practical Exam Submission\n",
    "\n",
    "Use this template to complete your analysis and write up your summary for submission.\n"
   ]
  },
  {
   "cell_type": "code",
   "execution_count": 34,
   "id": "d0eb4f16-5a99-460d-a5ba-706b7ef0bbe7",
   "metadata": {
    "executionTime": 327,
    "id": "bA5ajAmk7XH6",
    "lastSuccessfullyExecutedCode": "# Data Validation\n# Check all variables in the data against the criteria in the dataset above\n# Importing the needed libraries \nimport pandas as pd\nimport numpy as np \nimport matplotlib.pyplot as plt\nimport seaborn as sns"
   },
   "outputs": [],
   "source": [
    "# Data Validation\n",
    "# Check all variables in the data against the criteria in the dataset above\n",
    "# Importing the needed libraries \n",
    "import pandas as pd\n",
    "import numpy as np \n",
    "import matplotlib.pyplot as plt\n",
    "import seaborn as sns"
   ]
  },
  {
   "cell_type": "code",
   "execution_count": 35,
   "id": "800b780d-5649-41fb-b4a7-f8065bc4801c",
   "metadata": {
    "executionTime": 448,
    "lastSuccessfullyExecutedCode": "# Load the csv data\ndf= pd.read_csv(\"data/fitness_class.csv\")\ndisplay(df.head())\ndf.shape "
   },
   "outputs": [
    {
     "data": {
      "text/html": [
       "<div>\n",
       "<style scoped>\n",
       "    .dataframe tbody tr th:only-of-type {\n",
       "        vertical-align: middle;\n",
       "    }\n",
       "\n",
       "    .dataframe tbody tr th {\n",
       "        vertical-align: top;\n",
       "    }\n",
       "\n",
       "    .dataframe thead th {\n",
       "        text-align: right;\n",
       "    }\n",
       "</style>\n",
       "<table border=\"1\" class=\"dataframe\">\n",
       "  <thead>\n",
       "    <tr style=\"text-align: right;\">\n",
       "      <th></th>\n",
       "      <th>day_of_week</th>\n",
       "      <th>time</th>\n",
       "      <th>class_category</th>\n",
       "      <th>class_capacity</th>\n",
       "      <th>days_before</th>\n",
       "      <th>attendance</th>\n",
       "      <th>age</th>\n",
       "      <th>new_students</th>\n",
       "      <th>over_6_month</th>\n",
       "    </tr>\n",
       "  </thead>\n",
       "  <tbody>\n",
       "    <tr>\n",
       "      <th>0</th>\n",
       "      <td>Wed</td>\n",
       "      <td>AM</td>\n",
       "      <td>Yoga</td>\n",
       "      <td>15</td>\n",
       "      <td>1</td>\n",
       "      <td>8</td>\n",
       "      <td>31.1</td>\n",
       "      <td>6</td>\n",
       "      <td>4</td>\n",
       "    </tr>\n",
       "    <tr>\n",
       "      <th>1</th>\n",
       "      <td>Sun</td>\n",
       "      <td>PM</td>\n",
       "      <td>Aqua</td>\n",
       "      <td>15</td>\n",
       "      <td>3</td>\n",
       "      <td>8</td>\n",
       "      <td>27.0</td>\n",
       "      <td>7</td>\n",
       "      <td>8</td>\n",
       "    </tr>\n",
       "    <tr>\n",
       "      <th>2</th>\n",
       "      <td>Mon</td>\n",
       "      <td>AM</td>\n",
       "      <td>Aqua</td>\n",
       "      <td>15</td>\n",
       "      <td>5</td>\n",
       "      <td>10</td>\n",
       "      <td>22.4</td>\n",
       "      <td>8</td>\n",
       "      <td>7</td>\n",
       "    </tr>\n",
       "    <tr>\n",
       "      <th>3</th>\n",
       "      <td>Sun</td>\n",
       "      <td>PM</td>\n",
       "      <td>Strength</td>\n",
       "      <td>25</td>\n",
       "      <td>3</td>\n",
       "      <td>18</td>\n",
       "      <td>23.5</td>\n",
       "      <td>7</td>\n",
       "      <td>9</td>\n",
       "    </tr>\n",
       "    <tr>\n",
       "      <th>4</th>\n",
       "      <td>Mon</td>\n",
       "      <td>AM</td>\n",
       "      <td>Yoga</td>\n",
       "      <td>15</td>\n",
       "      <td>5</td>\n",
       "      <td>10</td>\n",
       "      <td>29.8</td>\n",
       "      <td>5</td>\n",
       "      <td>7</td>\n",
       "    </tr>\n",
       "  </tbody>\n",
       "</table>\n",
       "</div>"
      ],
      "text/plain": [
       "  day_of_week time class_category  class_capacity  days_before  attendance  \\\n",
       "0         Wed   AM           Yoga              15            1           8   \n",
       "1         Sun   PM           Aqua              15            3           8   \n",
       "2         Mon   AM           Aqua              15            5          10   \n",
       "3         Sun   PM       Strength              25            3          18   \n",
       "4         Mon   AM           Yoga              15            5          10   \n",
       "\n",
       "    age  new_students  over_6_month  \n",
       "0  31.1             6             4  \n",
       "1  27.0             7             8  \n",
       "2  22.4             8             7  \n",
       "3  23.5             7             9  \n",
       "4  29.8             5             7  "
      ]
     },
     "metadata": {},
     "output_type": "display_data"
    },
    {
     "data": {
      "text/plain": [
       "(765, 9)"
      ]
     },
     "execution_count": 35,
     "metadata": {},
     "output_type": "execute_result"
    }
   ],
   "source": [
    "# Load the csv data\n",
    "df= pd.read_csv(\"fitness_class.csv\")\n",
    "display(df.head())\n",
    "df.shape "
   ]
  },
  {
   "cell_type": "markdown",
   "id": "894043d8-7285-4fdd-8c4f-b11642db3ddf",
   "metadata": {},
   "source": [
    "From the table above it looks like there are no missing values. The table above has **765 rows or observation**, One for each customer and **9 attributes**. Lets check the data types of the columns."
   ]
  },
  {
   "cell_type": "code",
   "execution_count": 36,
   "id": "52616d25-9fe8-48de-ac04-2a7fd9c73e31",
   "metadata": {
    "executionTime": 240,
    "lastSuccessfullyExecutedCode": "# The data types for each columns \ndf.dtypes"
   },
   "outputs": [
    {
     "data": {
      "text/plain": [
       "day_of_week        object\n",
       "time               object\n",
       "class_category     object\n",
       "class_capacity      int64\n",
       "days_before         int64\n",
       "attendance          int64\n",
       "age               float64\n",
       "new_students        int64\n",
       "over_6_month        int64\n",
       "dtype: object"
      ]
     },
     "execution_count": 36,
     "metadata": {},
     "output_type": "execute_result"
    }
   ],
   "source": [
    "# The data types for each columns \n",
    "df.dtypes"
   ]
  },
  {
   "cell_type": "code",
   "execution_count": 37,
   "id": "c8438f38-070e-42c6-8aee-40af2142299e",
   "metadata": {
    "executionTime": 340,
    "lastSuccessfullyExecutedCode": "df.describe()"
   },
   "outputs": [
    {
     "data": {
      "text/html": [
       "<div>\n",
       "<style scoped>\n",
       "    .dataframe tbody tr th:only-of-type {\n",
       "        vertical-align: middle;\n",
       "    }\n",
       "\n",
       "    .dataframe tbody tr th {\n",
       "        vertical-align: top;\n",
       "    }\n",
       "\n",
       "    .dataframe thead th {\n",
       "        text-align: right;\n",
       "    }\n",
       "</style>\n",
       "<table border=\"1\" class=\"dataframe\">\n",
       "  <thead>\n",
       "    <tr style=\"text-align: right;\">\n",
       "      <th></th>\n",
       "      <th>class_capacity</th>\n",
       "      <th>days_before</th>\n",
       "      <th>attendance</th>\n",
       "      <th>age</th>\n",
       "      <th>new_students</th>\n",
       "      <th>over_6_month</th>\n",
       "    </tr>\n",
       "  </thead>\n",
       "  <tbody>\n",
       "    <tr>\n",
       "      <th>count</th>\n",
       "      <td>765.000000</td>\n",
       "      <td>765.000000</td>\n",
       "      <td>765.000000</td>\n",
       "      <td>765.000000</td>\n",
       "      <td>765.000000</td>\n",
       "      <td>765.000000</td>\n",
       "    </tr>\n",
       "    <tr>\n",
       "      <th>mean</th>\n",
       "      <td>17.542484</td>\n",
       "      <td>2.547712</td>\n",
       "      <td>9.563399</td>\n",
       "      <td>29.092680</td>\n",
       "      <td>5.917647</td>\n",
       "      <td>7.577778</td>\n",
       "    </tr>\n",
       "    <tr>\n",
       "      <th>std</th>\n",
       "      <td>4.365481</td>\n",
       "      <td>1.355379</td>\n",
       "      <td>3.896598</td>\n",
       "      <td>5.912063</td>\n",
       "      <td>1.789224</td>\n",
       "      <td>1.974518</td>\n",
       "    </tr>\n",
       "    <tr>\n",
       "      <th>min</th>\n",
       "      <td>15.000000</td>\n",
       "      <td>1.000000</td>\n",
       "      <td>4.000000</td>\n",
       "      <td>8.300000</td>\n",
       "      <td>1.000000</td>\n",
       "      <td>2.000000</td>\n",
       "    </tr>\n",
       "    <tr>\n",
       "      <th>25%</th>\n",
       "      <td>15.000000</td>\n",
       "      <td>1.000000</td>\n",
       "      <td>7.000000</td>\n",
       "      <td>25.300000</td>\n",
       "      <td>5.000000</td>\n",
       "      <td>6.000000</td>\n",
       "    </tr>\n",
       "    <tr>\n",
       "      <th>50%</th>\n",
       "      <td>15.000000</td>\n",
       "      <td>2.000000</td>\n",
       "      <td>9.000000</td>\n",
       "      <td>29.000000</td>\n",
       "      <td>6.000000</td>\n",
       "      <td>8.000000</td>\n",
       "    </tr>\n",
       "    <tr>\n",
       "      <th>75%</th>\n",
       "      <td>25.000000</td>\n",
       "      <td>4.000000</td>\n",
       "      <td>11.000000</td>\n",
       "      <td>33.200000</td>\n",
       "      <td>7.000000</td>\n",
       "      <td>9.000000</td>\n",
       "    </tr>\n",
       "    <tr>\n",
       "      <th>max</th>\n",
       "      <td>26.000000</td>\n",
       "      <td>5.000000</td>\n",
       "      <td>21.000000</td>\n",
       "      <td>48.800000</td>\n",
       "      <td>11.000000</td>\n",
       "      <td>13.000000</td>\n",
       "    </tr>\n",
       "  </tbody>\n",
       "</table>\n",
       "</div>"
      ],
      "text/plain": [
       "       class_capacity  days_before  attendance         age  new_students  \\\n",
       "count      765.000000   765.000000  765.000000  765.000000    765.000000   \n",
       "mean        17.542484     2.547712    9.563399   29.092680      5.917647   \n",
       "std          4.365481     1.355379    3.896598    5.912063      1.789224   \n",
       "min         15.000000     1.000000    4.000000    8.300000      1.000000   \n",
       "25%         15.000000     1.000000    7.000000   25.300000      5.000000   \n",
       "50%         15.000000     2.000000    9.000000   29.000000      6.000000   \n",
       "75%         25.000000     4.000000   11.000000   33.200000      7.000000   \n",
       "max         26.000000     5.000000   21.000000   48.800000     11.000000   \n",
       "\n",
       "       over_6_month  \n",
       "count    765.000000  \n",
       "mean       7.577778  \n",
       "std        1.974518  \n",
       "min        2.000000  \n",
       "25%        6.000000  \n",
       "50%        8.000000  \n",
       "75%        9.000000  \n",
       "max       13.000000  "
      ]
     },
     "execution_count": 37,
     "metadata": {},
     "output_type": "execute_result"
    }
   ],
   "source": [
    "df.describe()"
   ]
  },
  {
   "cell_type": "markdown",
   "id": "0cf87351-cadc-4d7e-9906-885fc600877e",
   "metadata": {},
   "source": [
    "## updating and removing of data\n",
    "The maximum class capacity column needs to be updated from **26 to 25**, the age column has minimum age of 8.3 which is not acceptable,because group fitness class are meant for members age 14 and above, we are to **remove any age below 14years old**."
   ]
  },
  {
   "cell_type": "code",
   "execution_count": 38,
   "id": "660f348e-90a5-4d0f-933d-a1d848d18faf",
   "metadata": {
    "executionTime": 0,
    "lastSuccessfullyExecutedCode": "# updating the class_capacity column\ndf['class_capacity'].replace(26, 25, inplace = True)"
   },
   "outputs": [],
   "source": [
    "# updating the class_capacity column\n",
    "df['class_capacity'].replace(26, 25, inplace = True)"
   ]
  },
  {
   "cell_type": "code",
   "execution_count": 39,
   "id": "42292c4d-ffc3-4738-9ab4-f3e4b22522ac",
   "metadata": {
    "executionTime": 272,
    "lastSuccessfullyExecutedCode": "#Age below 14\ndf[df.age < 14]"
   },
   "outputs": [
    {
     "data": {
      "text/html": [
       "<div>\n",
       "<style scoped>\n",
       "    .dataframe tbody tr th:only-of-type {\n",
       "        vertical-align: middle;\n",
       "    }\n",
       "\n",
       "    .dataframe tbody tr th {\n",
       "        vertical-align: top;\n",
       "    }\n",
       "\n",
       "    .dataframe thead th {\n",
       "        text-align: right;\n",
       "    }\n",
       "</style>\n",
       "<table border=\"1\" class=\"dataframe\">\n",
       "  <thead>\n",
       "    <tr style=\"text-align: right;\">\n",
       "      <th></th>\n",
       "      <th>day_of_week</th>\n",
       "      <th>time</th>\n",
       "      <th>class_category</th>\n",
       "      <th>class_capacity</th>\n",
       "      <th>days_before</th>\n",
       "      <th>attendance</th>\n",
       "      <th>age</th>\n",
       "      <th>new_students</th>\n",
       "      <th>over_6_month</th>\n",
       "    </tr>\n",
       "  </thead>\n",
       "  <tbody>\n",
       "    <tr>\n",
       "      <th>55</th>\n",
       "      <td>Fri</td>\n",
       "      <td>AM</td>\n",
       "      <td>Strength</td>\n",
       "      <td>25</td>\n",
       "      <td>4</td>\n",
       "      <td>21</td>\n",
       "      <td>8.3</td>\n",
       "      <td>7</td>\n",
       "      <td>11</td>\n",
       "    </tr>\n",
       "    <tr>\n",
       "      <th>104</th>\n",
       "      <td>Sat</td>\n",
       "      <td>PM</td>\n",
       "      <td>Yoga</td>\n",
       "      <td>25</td>\n",
       "      <td>1</td>\n",
       "      <td>21</td>\n",
       "      <td>13.6</td>\n",
       "      <td>6</td>\n",
       "      <td>10</td>\n",
       "    </tr>\n",
       "    <tr>\n",
       "      <th>165</th>\n",
       "      <td>Thu</td>\n",
       "      <td>AM</td>\n",
       "      <td>Yoga</td>\n",
       "      <td>25</td>\n",
       "      <td>3</td>\n",
       "      <td>20</td>\n",
       "      <td>11.3</td>\n",
       "      <td>9</td>\n",
       "      <td>11</td>\n",
       "    </tr>\n",
       "  </tbody>\n",
       "</table>\n",
       "</div>"
      ],
      "text/plain": [
       "    day_of_week time class_category  class_capacity  days_before  attendance  \\\n",
       "55          Fri   AM       Strength              25            4          21   \n",
       "104         Sat   PM           Yoga              25            1          21   \n",
       "165         Thu   AM           Yoga              25            3          20   \n",
       "\n",
       "      age  new_students  over_6_month  \n",
       "55    8.3             7            11  \n",
       "104  13.6             6            10  \n",
       "165  11.3             9            11  "
      ]
     },
     "execution_count": 39,
     "metadata": {},
     "output_type": "execute_result"
    }
   ],
   "source": [
    "#Age below 14\n",
    "df[df.age < 14]"
   ]
  },
  {
   "cell_type": "markdown",
   "id": "7000044b-b1ae-41ca-ade1-f1f7b04f3b3c",
   "metadata": {},
   "source": [
    "There are three customers below 14 which we are to be drop or remove from the data."
   ]
  },
  {
   "cell_type": "code",
   "execution_count": 40,
   "id": "98f2c654-cb20-4966-b57a-86cd859b7aa2",
   "metadata": {
    "executionTime": 276,
    "lastSuccessfullyExecutedCode": "# Drop age below 14 years\ndf = df[df.age >= 14]\n# Assert the result\nassert df.age.min() >= 14\ndf.describe()"
   },
   "outputs": [
    {
     "data": {
      "text/html": [
       "<div>\n",
       "<style scoped>\n",
       "    .dataframe tbody tr th:only-of-type {\n",
       "        vertical-align: middle;\n",
       "    }\n",
       "\n",
       "    .dataframe tbody tr th {\n",
       "        vertical-align: top;\n",
       "    }\n",
       "\n",
       "    .dataframe thead th {\n",
       "        text-align: right;\n",
       "    }\n",
       "</style>\n",
       "<table border=\"1\" class=\"dataframe\">\n",
       "  <thead>\n",
       "    <tr style=\"text-align: right;\">\n",
       "      <th></th>\n",
       "      <th>class_capacity</th>\n",
       "      <th>days_before</th>\n",
       "      <th>attendance</th>\n",
       "      <th>age</th>\n",
       "      <th>new_students</th>\n",
       "      <th>over_6_month</th>\n",
       "    </tr>\n",
       "  </thead>\n",
       "  <tbody>\n",
       "    <tr>\n",
       "      <th>count</th>\n",
       "      <td>762.000000</td>\n",
       "      <td>762.000000</td>\n",
       "      <td>762.000000</td>\n",
       "      <td>762.000000</td>\n",
       "      <td>762.000000</td>\n",
       "      <td>762.000000</td>\n",
       "    </tr>\n",
       "    <tr>\n",
       "      <th>mean</th>\n",
       "      <td>17.506562</td>\n",
       "      <td>2.547244</td>\n",
       "      <td>9.519685</td>\n",
       "      <td>29.163648</td>\n",
       "      <td>5.912073</td>\n",
       "      <td>7.565617</td>\n",
       "    </tr>\n",
       "    <tr>\n",
       "      <th>std</th>\n",
       "      <td>4.336755</td>\n",
       "      <td>1.355768</td>\n",
       "      <td>3.841164</td>\n",
       "      <td>5.812547</td>\n",
       "      <td>1.788821</td>\n",
       "      <td>1.968617</td>\n",
       "    </tr>\n",
       "    <tr>\n",
       "      <th>min</th>\n",
       "      <td>15.000000</td>\n",
       "      <td>1.000000</td>\n",
       "      <td>4.000000</td>\n",
       "      <td>14.000000</td>\n",
       "      <td>1.000000</td>\n",
       "      <td>2.000000</td>\n",
       "    </tr>\n",
       "    <tr>\n",
       "      <th>25%</th>\n",
       "      <td>15.000000</td>\n",
       "      <td>1.000000</td>\n",
       "      <td>7.000000</td>\n",
       "      <td>25.300000</td>\n",
       "      <td>5.000000</td>\n",
       "      <td>6.000000</td>\n",
       "    </tr>\n",
       "    <tr>\n",
       "      <th>50%</th>\n",
       "      <td>15.000000</td>\n",
       "      <td>2.000000</td>\n",
       "      <td>9.000000</td>\n",
       "      <td>29.000000</td>\n",
       "      <td>6.000000</td>\n",
       "      <td>8.000000</td>\n",
       "    </tr>\n",
       "    <tr>\n",
       "      <th>75%</th>\n",
       "      <td>22.500000</td>\n",
       "      <td>4.000000</td>\n",
       "      <td>11.000000</td>\n",
       "      <td>33.200000</td>\n",
       "      <td>7.000000</td>\n",
       "      <td>9.000000</td>\n",
       "    </tr>\n",
       "    <tr>\n",
       "      <th>max</th>\n",
       "      <td>25.000000</td>\n",
       "      <td>5.000000</td>\n",
       "      <td>21.000000</td>\n",
       "      <td>48.800000</td>\n",
       "      <td>11.000000</td>\n",
       "      <td>13.000000</td>\n",
       "    </tr>\n",
       "  </tbody>\n",
       "</table>\n",
       "</div>"
      ],
      "text/plain": [
       "       class_capacity  days_before  attendance         age  new_students  \\\n",
       "count      762.000000   762.000000  762.000000  762.000000    762.000000   \n",
       "mean        17.506562     2.547244    9.519685   29.163648      5.912073   \n",
       "std          4.336755     1.355768    3.841164    5.812547      1.788821   \n",
       "min         15.000000     1.000000    4.000000   14.000000      1.000000   \n",
       "25%         15.000000     1.000000    7.000000   25.300000      5.000000   \n",
       "50%         15.000000     2.000000    9.000000   29.000000      6.000000   \n",
       "75%         22.500000     4.000000   11.000000   33.200000      7.000000   \n",
       "max         25.000000     5.000000   21.000000   48.800000     11.000000   \n",
       "\n",
       "       over_6_month  \n",
       "count    762.000000  \n",
       "mean       7.565617  \n",
       "std        1.968617  \n",
       "min        2.000000  \n",
       "25%        6.000000  \n",
       "50%        8.000000  \n",
       "75%        9.000000  \n",
       "max       13.000000  "
      ]
     },
     "execution_count": 40,
     "metadata": {},
     "output_type": "execute_result"
    }
   ],
   "source": [
    "# Drop age below 14 years\n",
    "df = df[df.age >= 14]\n",
    "# Assert the result\n",
    "assert df.age.min() >= 14\n",
    "df.describe()"
   ]
  },
  {
   "cell_type": "code",
   "execution_count": 41,
   "id": "2dc4ef7f-cea7-46da-8fa8-e4c51762e6a3",
   "metadata": {
    "executionTime": 208,
    "lastSuccessfullyExecutedCode": "df.info()"
   },
   "outputs": [
    {
     "name": "stdout",
     "output_type": "stream",
     "text": [
      "<class 'pandas.core.frame.DataFrame'>\n",
      "Int64Index: 762 entries, 0 to 764\n",
      "Data columns (total 9 columns):\n",
      " #   Column          Non-Null Count  Dtype  \n",
      "---  ------          --------------  -----  \n",
      " 0   day_of_week     762 non-null    object \n",
      " 1   time            762 non-null    object \n",
      " 2   class_category  762 non-null    object \n",
      " 3   class_capacity  762 non-null    int64  \n",
      " 4   days_before     762 non-null    int64  \n",
      " 5   attendance      762 non-null    int64  \n",
      " 6   age             762 non-null    float64\n",
      " 7   new_students    762 non-null    int64  \n",
      " 8   over_6_month    762 non-null    int64  \n",
      "dtypes: float64(1), int64(5), object(3)\n",
      "memory usage: 59.5+ KB\n"
     ]
    }
   ],
   "source": [
    "df.info()"
   ]
  },
  {
   "cell_type": "markdown",
   "id": "b183e253-c1e6-4863-a446-39abae4ecb7f",
   "metadata": {},
   "source": [
    "## checking for missing and duplicates values"
   ]
  },
  {
   "cell_type": "code",
   "execution_count": 42,
   "id": "4793271e-6ca8-4e85-a721-e39ddde4b38d",
   "metadata": {
    "executionTime": 197,
    "lastSuccessfullyExecutedCode": "#checking for missing values\ndf.isna().sum()"
   },
   "outputs": [
    {
     "data": {
      "text/plain": [
       "day_of_week       0\n",
       "time              0\n",
       "class_category    0\n",
       "class_capacity    0\n",
       "days_before       0\n",
       "attendance        0\n",
       "age               0\n",
       "new_students      0\n",
       "over_6_month      0\n",
       "dtype: int64"
      ]
     },
     "execution_count": 42,
     "metadata": {},
     "output_type": "execute_result"
    }
   ],
   "source": [
    "#checking for missing values\n",
    "df.isna().sum()"
   ]
  },
  {
   "cell_type": "code",
   "execution_count": 43,
   "id": "f7181018-d2e0-414d-b185-7788bb14d6cb",
   "metadata": {
    "executionTime": 489,
    "lastSuccessfullyExecutedCode": "df.duplicated().sum()"
   },
   "outputs": [
    {
     "data": {
      "text/plain": [
       "0"
      ]
     },
     "execution_count": 43,
     "metadata": {},
     "output_type": "execute_result"
    }
   ],
   "source": [
    "df.duplicated().sum()"
   ]
  },
  {
   "cell_type": "markdown",
   "id": "71b0a627-c148-4d96-8ba8-53a8c1c687c2",
   "metadata": {},
   "source": [
    "There are no missing and duplicates values in our data, which is very good "
   ]
  },
  {
   "cell_type": "code",
   "execution_count": 44,
   "id": "1cda7808-ce67-4e7f-b16e-82d3ae1cedc7",
   "metadata": {
    "executionTime": 254,
    "lastSuccessfullyExecutedCode": "df.iloc[:, 0:3].nunique()"
   },
   "outputs": [
    {
     "data": {
      "text/plain": [
       "day_of_week       7\n",
       "time              2\n",
       "class_category    5\n",
       "dtype: int64"
      ]
     },
     "execution_count": 44,
     "metadata": {},
     "output_type": "execute_result"
    }
   ],
   "source": [
    "df.iloc[:, 0:3].nunique()"
   ]
  },
  {
   "cell_type": "markdown",
   "id": "840af83a-68f0-46c0-bbe9-51d646b81532",
   "metadata": {
    "tags": []
   },
   "source": [
    "## Data Validation\n",
    "Describe the validation tasks you completed and what you found. Have you made any changes to the data to enable further analysis? Remember to describe what you did for every column in the data. \n",
    "\n",
    "### The dataset contains **765 rows and 9 columns** with non missing values, class_capacity above 25 and average age below 14. I have validated all the columns against the criteria in the dataset table:\n",
    "-  Day of Week: Same as description without missing values, \"Mon\" to \"Sun\".\n",
    "-  Time: Same as description without missing values, either AM or PM.\n",
    "-  Class Category: Same as description without missing values, 5 categories.\n",
    "-  Days Before: Same as description without missing values, maximum of 5days.\n",
    "-  Class Capacity: Update the maximum capacity from 26 to 25.\n",
    "-  Attendance: Same as description without missing values.\n",
    "-  Average Age: 3 values arebelow the average age of 14, so i decided to remove them.\n",
    "-  Number of New Students: Same as description without missing values.\n",
    "-  Number of Members over 6 Months: Same as description without missing values.\n",
    "    \n",
    "### After validation the dataset contains 762 rows and 9 columns.    "
   ]
  },
  {
   "cell_type": "code",
   "execution_count": 45,
   "id": "7ece2faf-848f-48d1-8404-d1d12abdaf87",
   "metadata": {
    "executionTime": 230,
    "lastSuccessfullyExecutedCode": "# Exploratory Analysis\n# Explore the characteristics of the variables in the data\n# Average attendance\ndf_mean= np.mean(df.attendance)\ndf_median = np.median(df.attendance)\nprint(df_mean, df_median)"
   },
   "outputs": [
    {
     "name": "stdout",
     "output_type": "stream",
     "text": [
      "9.51968503937008 9.0\n"
     ]
    }
   ],
   "source": [
    "# Exploratory Analysis\n",
    "# Explore the characteristics of the variables in the data\n",
    "# Average attendance\n",
    "df_mean= np.mean(df.attendance)\n",
    "df_median = np.median(df.attendance)\n",
    "print(df_mean, df_median)"
   ]
  },
  {
   "cell_type": "markdown",
   "id": "a08116ca-4bb3-43aa-aecd-1236bac3694a",
   "metadata": {},
   "source": [
    "**Visualizing the distribution of the target variable**"
   ]
  },
  {
   "cell_type": "code",
   "execution_count": 46,
   "id": "8e34593a-d162-4a63-ab4d-f08c8bdf7f87",
   "metadata": {
    "executionTime": 216,
    "lastSuccessfullyExecutedCode": "#visualizing the distribution\nsns.histplot(data = df, x= 'attendance')\nplt.title('Distribution of Attendance Rate')\nplt.show()"
   },
   "outputs": [
    {
     "data": {
      "image/png": "[encoded data removed]",
      "text/plain": [
       "<Figure size 432x288 with 1 Axes>"
      ]
     },
     "metadata": {
      "needs_background": "light"
     },
     "output_type": "display_data"
    }
   ],
   "source": [
    "#visualizing the distribution\n",
    "sns.histplot(data = df, x= 'attendance')\n",
    "plt.title('Distribution of Attendance Rate')\n",
    "plt.show()"
   ]
  },
  {
   "cell_type": "code",
   "execution_count": 47,
   "id": "8f0555e9-66f9-4213-8442-b71274746911",
   "metadata": {
    "executionTime": 199,
    "lastSuccessfullyExecutedCode": "print('The youngest age :{}' .format(df.age.min()))\nprint('The oldest age :{}' .format(df.age.max())) "
   },
   "outputs": [
    {
     "name": "stdout",
     "output_type": "stream",
     "text": [
      "The youngest age :14.0\n",
      "The oldest age :48.8\n"
     ]
    }
   ],
   "source": [
    "print('The youngest age :{}' .format(df.age.min()))\n",
    "print('The oldest age :{}' .format(df.age.max())) "
   ]
  },
  {
   "cell_type": "code",
   "execution_count": 48,
   "id": "293e9547-f488-4346-96e5-8ac99ec005e8",
   "metadata": {
    "executionTime": 344,
    "lastSuccessfullyExecutedCode": "# average age\ndisplay(df.age.mean())\nsns.boxplot(x= df.age)\nplt.title('Distrbution of Average Age')\nplt.show()"
   },
   "outputs": [
    {
     "data": {
      "text/plain": [
       "29.163648293963256"
      ]
     },
     "metadata": {},
     "output_type": "display_data"
    },
    {
     "data": {
      "image/png": "[encoded data removed]",
      "text/plain": [
       "<Figure size 432x288 with 1 Axes>"
      ]
     },
     "metadata": {
      "needs_background": "light"
     },
     "output_type": "display_data"
    }
   ],
   "source": [
    "# average age\n",
    "display(df.age.mean())\n",
    "sns.boxplot(x= df.age)\n",
    "plt.title('Distrbution of Average Age')\n",
    "plt.show()"
   ]
  },
  {
   "cell_type": "code",
   "execution_count": 49,
   "id": "f79cef7a-fb23-479a-9229-d589aa703c8f",
   "metadata": {
    "executionTime": 255,
    "lastSuccessfullyExecutedCode": "#class category values\ndf_cat= df.class_category.value_counts().sort_values()\ndf_cat"
   },
   "outputs": [
    {
     "data": {
      "text/plain": [
       "Cycling     130\n",
       "HIIT        137\n",
       "Aqua        160\n",
       "Strength    162\n",
       "Yoga        173\n",
       "Name: class_category, dtype: int64"
      ]
     },
     "execution_count": 49,
     "metadata": {},
     "output_type": "execute_result"
    }
   ],
   "source": [
    "#class category values\n",
    "df_cat= df.class_category.value_counts().sort_values()\n",
    "df_cat"
   ]
  },
  {
   "cell_type": "markdown",
   "id": "0979e668-1c79-4415-9065-4fc185afbee8",
   "metadata": {},
   "source": [
    "**Visualizing total Class Category.**"
   ]
  },
  {
   "cell_type": "code",
   "execution_count": 50,
   "id": "faf48add-2e92-4212-a36c-30098dc33bda",
   "metadata": {
    "executionTime": 202,
    "lastSuccessfullyExecutedCode": "# visualizind the data \ncategory_order = ['Cycling', 'HIIT', 'Aqua', 'Strength', 'Yoga']\nsns.countplot(x= 'class_category', data= df, order= category_order)\nplt.title('Class Category')\nplt.show()"
   },
   "outputs": [
    {
     "data": {
      "image/png": "[encoded data removed]",
      "text/plain": [
       "<Figure size 432x288 with 1 Axes>"
      ]
     },
     "metadata": {
      "needs_background": "light"
     },
     "output_type": "display_data"
    }
   ],
   "source": [
    "# visualizind the data \n",
    "category_order = ['Cycling', 'HIIT', 'Aqua', 'Strength', 'Yoga']\n",
    "sns.countplot(x= 'class_category', data= df, order= category_order)\n",
    "plt.title('Class Category')\n",
    "plt.show()"
   ]
  },
  {
   "cell_type": "markdown",
   "id": "e572ea0a-c58b-4342-9e4b-daf9f2b7529d",
   "metadata": {},
   "source": [
    "**Relationship between **"
   ]
  },
  {
   "cell_type": "code",
   "execution_count": 51,
   "id": "66b3866e-4431-4fab-9276-4bb67d6be1de",
   "metadata": {
    "executionTime": 249,
    "lastSuccessfullyExecutedCode": "sns.scatterplot(data= df, x= 'age', y= 'attendance')\nplt.title('Attendance vs Age')\nplt.show()"
   },
   "outputs": [
    {
     "data": {
      "image/png": "[encoded data removed]",
      "text/plain": [
       "<Figure size 432x288 with 1 Axes>"
      ]
     },
     "metadata": {
      "needs_background": "light"
     },
     "output_type": "display_data"
    }
   ],
   "source": [
    "sns.scatterplot(data= df, x= 'age', y= 'attendance')\n",
    "plt.title('Attendance vs Age')\n",
    "plt.show()"
   ]
  },
  {
   "cell_type": "markdown",
   "id": "171c1d40-2151-4f25-bc57-0ded46788a83",
   "metadata": {},
   "source": [
    "The graph above shows that as the age increase attendance rate reduces, which means as people gets older the attendance rate reduces."
   ]
  },
  {
   "cell_type": "code",
   "execution_count": 52,
   "id": "b957875b-e086-4bfd-94e5-69b4dab906ca",
   "metadata": {
    "executionTime": 224,
    "lastSuccessfullyExecutedCode": "df_sub= df.groupby(['class_category', 'time']).attendance.count()\ndf_sub"
   },
   "outputs": [
    {
     "data": {
      "text/plain": [
       "class_category  time\n",
       "Aqua            AM       84\n",
       "                PM       76\n",
       "Cycling         AM       62\n",
       "                PM       68\n",
       "HIIT            AM       73\n",
       "                PM       64\n",
       "Strength        AM       75\n",
       "                PM       87\n",
       "Yoga            AM       73\n",
       "                PM      100\n",
       "Name: attendance, dtype: int64"
      ]
     },
     "execution_count": 52,
     "metadata": {},
     "output_type": "execute_result"
    }
   ],
   "source": [
    "df_sub= df.groupby(['class_category', 'time']).attendance.count()\n",
    "df_sub"
   ]
  },
  {
   "cell_type": "code",
   "execution_count": 53,
   "id": "62479f60-7573-4686-a598-3d79cfe9da15",
   "metadata": {
    "executionTime": 324,
    "lastSuccessfullyExecutedCode": "sns.boxplot(data=df, x= 'class_category', y= 'attendance', hue= 'time')\nplt.title(\"The attendance rate of class category\")\nplt.show()"
   },
   "outputs": [
    {
     "data": {
      "image/png": "[encoded data removed]",
      "text/plain": [
       "<Figure size 432x288 with 1 Axes>"
      ]
     },
     "metadata": {
      "needs_background": "light"
     },
     "output_type": "display_data"
    }
   ],
   "source": [
    "sns.boxplot(data=df, x= 'class_category', y= 'attendance', hue= 'time')\n",
    "plt.title(\"The attendance rate of class category\")\n",
    "plt.show()"
   ]
  },
  {
   "cell_type": "markdown",
   "id": "416389af-96ea-4fb7-bc3b-2220efb030d9",
   "metadata": {},
   "source": [
    "**Visulizing the correlation of the columns**."
   ]
  },
  {
   "cell_type": "code",
   "execution_count": 54,
   "id": "00aae3a1-b383-4ff1-b27d-5279ad507d97",
   "metadata": {
    "executionTime": 221,
    "lastSuccessfullyExecutedCode": "#lets calculate correlation\nfig, ax= plt.subplots(figsize= (10,6))\nsns.heatmap(df.corr(), annot= True, cmap= 'YlGnBu', linewidths= .9, ax=ax)\nplt.show()"
   },
   "outputs": [
    {
     "data": {
      "image/png": "[encoded data removed]",
      "text/plain": [
       "<Figure size 720x432 with 2 Axes>"
      ]
     },
     "metadata": {
      "needs_background": "light"
     },
     "output_type": "display_data"
    }
   ],
   "source": [
    "#lets calculate correlation\n",
    "fig, ax= plt.subplots(figsize= (10,6))\n",
    "sns.heatmap(df.corr(), annot= True, cmap= 'YlGnBu', linewidths= .9, ax=ax)\n",
    "plt.show()"
   ]
  },
  {
   "cell_type": "code",
   "execution_count": 55,
   "id": "29127a00-1b5f-41b6-906a-86667188025a",
   "metadata": {
    "executionTime": 227,
    "lastSuccessfullyExecutedCode": "#viewing columns\ndf.columns"
   },
   "outputs": [
    {
     "data": {
      "text/plain": [
       "Index(['day_of_week', 'time', 'class_category', 'class_capacity',\n",
       "       'days_before', 'attendance', 'age', 'new_students', 'over_6_month'],\n",
       "      dtype='object')"
      ]
     },
     "execution_count": 55,
     "metadata": {},
     "output_type": "execute_result"
    }
   ],
   "source": [
    "#viewing columns\n",
    "df.columns"
   ]
  },
  {
   "cell_type": "code",
   "execution_count": 56,
   "id": "5654eaa2-d6ce-4cbb-bd95-ab8e47a598ad",
   "metadata": {
    "executionTime": 285,
    "lastSuccessfullyExecutedCode": "#Rearranging our columns for better presentation\ndf= df[['day_of_week', 'time', 'class_category', 'class_capacity', 'days_before', 'age', 'new_students', 'over_6_month', 'attendance']]\ndf.head()"
   },
   "outputs": [
    {
     "data": {
      "text/html": [
       "<div>\n",
       "<style scoped>\n",
       "    .dataframe tbody tr th:only-of-type {\n",
       "        vertical-align: middle;\n",
       "    }\n",
       "\n",
       "    .dataframe tbody tr th {\n",
       "        vertical-align: top;\n",
       "    }\n",
       "\n",
       "    .dataframe thead th {\n",
       "        text-align: right;\n",
       "    }\n",
       "</style>\n",
       "<table border=\"1\" class=\"dataframe\">\n",
       "  <thead>\n",
       "    <tr style=\"text-align: right;\">\n",
       "      <th></th>\n",
       "      <th>day_of_week</th>\n",
       "      <th>time</th>\n",
       "      <th>class_category</th>\n",
       "      <th>class_capacity</th>\n",
       "      <th>days_before</th>\n",
       "      <th>age</th>\n",
       "      <th>new_students</th>\n",
       "      <th>over_6_month</th>\n",
       "      <th>attendance</th>\n",
       "    </tr>\n",
       "  </thead>\n",
       "  <tbody>\n",
       "    <tr>\n",
       "      <th>0</th>\n",
       "      <td>Wed</td>\n",
       "      <td>AM</td>\n",
       "      <td>Yoga</td>\n",
       "      <td>15</td>\n",
       "      <td>1</td>\n",
       "      <td>31.1</td>\n",
       "      <td>6</td>\n",
       "      <td>4</td>\n",
       "      <td>8</td>\n",
       "    </tr>\n",
       "    <tr>\n",
       "      <th>1</th>\n",
       "      <td>Sun</td>\n",
       "      <td>PM</td>\n",
       "      <td>Aqua</td>\n",
       "      <td>15</td>\n",
       "      <td>3</td>\n",
       "      <td>27.0</td>\n",
       "      <td>7</td>\n",
       "      <td>8</td>\n",
       "      <td>8</td>\n",
       "    </tr>\n",
       "    <tr>\n",
       "      <th>2</th>\n",
       "      <td>Mon</td>\n",
       "      <td>AM</td>\n",
       "      <td>Aqua</td>\n",
       "      <td>15</td>\n",
       "      <td>5</td>\n",
       "      <td>22.4</td>\n",
       "      <td>8</td>\n",
       "      <td>7</td>\n",
       "      <td>10</td>\n",
       "    </tr>\n",
       "    <tr>\n",
       "      <th>3</th>\n",
       "      <td>Sun</td>\n",
       "      <td>PM</td>\n",
       "      <td>Strength</td>\n",
       "      <td>25</td>\n",
       "      <td>3</td>\n",
       "      <td>23.5</td>\n",
       "      <td>7</td>\n",
       "      <td>9</td>\n",
       "      <td>18</td>\n",
       "    </tr>\n",
       "    <tr>\n",
       "      <th>4</th>\n",
       "      <td>Mon</td>\n",
       "      <td>AM</td>\n",
       "      <td>Yoga</td>\n",
       "      <td>15</td>\n",
       "      <td>5</td>\n",
       "      <td>29.8</td>\n",
       "      <td>5</td>\n",
       "      <td>7</td>\n",
       "      <td>10</td>\n",
       "    </tr>\n",
       "  </tbody>\n",
       "</table>\n",
       "</div>"
      ],
      "text/plain": [
       "  day_of_week time class_category  class_capacity  days_before   age  \\\n",
       "0         Wed   AM           Yoga              15            1  31.1   \n",
       "1         Sun   PM           Aqua              15            3  27.0   \n",
       "2         Mon   AM           Aqua              15            5  22.4   \n",
       "3         Sun   PM       Strength              25            3  23.5   \n",
       "4         Mon   AM           Yoga              15            5  29.8   \n",
       "\n",
       "   new_students  over_6_month  attendance  \n",
       "0             6             4           8  \n",
       "1             7             8           8  \n",
       "2             8             7          10  \n",
       "3             7             9          18  \n",
       "4             5             7          10  "
      ]
     },
     "execution_count": 56,
     "metadata": {},
     "output_type": "execute_result"
    }
   ],
   "source": [
    "#Rearranging our columns for better presentation\n",
    "df= df[['day_of_week', 'time', 'class_category', 'class_capacity', 'days_before', 'age', 'new_students', 'over_6_month', 'attendance']]\n",
    "df.head()"
   ]
  },
  {
   "cell_type": "markdown",
   "id": "8b700286-855b-47a4-bfba-26e465275bae",
   "metadata": {},
   "source": [
    "**Make changes to the data to enable modelling**"
   ]
  },
  {
   "cell_type": "code",
   "execution_count": 57,
   "id": "688bab44-6f76-47d1-87db-26b0ef0dec40",
   "metadata": {
    "executionTime": 0,
    "lastSuccessfullyExecutedCode": "#covert category variable to numerical  \nfeatures = df.drop(columns= 'attendance')\nX = pd.get_dummies(features, columns= ['day_of_week', 'time', 'class_category'],drop_first=True).values\ny = df.attendance.values"
   },
   "outputs": [],
   "source": [
    "#covert category variable to numerical  \n",
    "features = df.drop(columns= 'attendance')\n",
    "X = pd.get_dummies(features, columns= ['day_of_week', 'time', 'class_category'],drop_first=True).values\n",
    "y = df.attendance.values"
   ]
  },
  {
   "cell_type": "markdown",
   "id": "674a3bd9-f1fa-466e-9755-45cc0afac92d",
   "metadata": {
    "tags": []
   },
   "source": [
    "## Exploratory Analysis\n",
    "Describe what you found in the exploratory analysis. In your description you should:\n",
    "- Reference at least two different data visualizations you created above to demonstrate the characteristics of single variables\n",
    "- Reference at least one data visualization you created above to demonstrate the relationship between two or more variables\n",
    "- Describe what your exploratory analysis has told you about the data\n",
    "- Describe any changes you have made to the data to enable modeling\n",
    "\n",
    "   After cleaning the data the next step is **Exploratory Data Analysis.** Our target variable is **attendance.**\n",
    "- From the **distribution of attendance rate**, it shows that attendance rate is commom between 4.9 and 12.5, which means that there are more lower attendance rate than higher attendance rate.\n",
    "- From the **distribution of average age**, it shows that the average age is 29 years old, most customers are between 14 - 45 years old, there are few customers older than 45 years old.\n",
    "- Form the **class category barchart**, cycling has the lowest category and yoga has the highest category on average to the remaining category.\n",
    "- Moreso, **relationship between attendace and age** is non-linear but it is predictable, it shows that as the age increase attendance rate reduces, which means as people gets older the attendance rate reduces.\n",
    "- Also, from the last graph, **attendance and class category** are good prediction.\n",
    "- Inaddition, i rearrange the order of the columms to make for a better presentation of our target variable.\n",
    "  Finally, to enable model fitting for categorical variable, i have made the following changes:\n",
    "-  convert all categorical features to numerical variable. "
   ]
  },
  {
   "cell_type": "code",
   "execution_count": 58,
   "id": "b2341e2c-ff96-4ae2-aaff-4fd2361bcdff",
   "metadata": {
    "executionTime": 0,
    "lastSuccessfullyExecutedCode": "# Model Fitting\n# Choose and fit a baseline model\n# Choose and fit a comparison model\n\nfrom sklearn.linear_model import LinearRegression\nfrom sklearn.linear_model import Lasso\nfrom sklearn.preprocessing import StandardScaler  \nfrom sklearn.model_selection import train_test_split, cross_val_score, GridSearchCV \nfrom sklearn.metrics import mean_squared_error as MSE\nfrom sklearn.pipeline import Pipeline"
   },
   "outputs": [],
   "source": [
    "# Model Fitting\n",
    "# Choose and fit a baseline model\n",
    "# Choose and fit a comparison model\n",
    "\n",
    "from sklearn.linear_model import LinearRegression\n",
    "from sklearn.linear_model import Lasso\n",
    "from sklearn.preprocessing import StandardScaler  \n",
    "from sklearn.model_selection import train_test_split, cross_val_score, GridSearchCV,KFold \n",
    "from sklearn.metrics import mean_squared_error as MSE\n",
    "from sklearn.pipeline import Pipeline"
   ]
  },
  {
   "cell_type": "code",
   "execution_count": 59,
   "id": "b0736c2b-51a1-4a13-8d42-9de31a7b8034",
   "metadata": {
    "executionTime": 0,
    "lastSuccessfullyExecutedCode": "#split the data into 70% train and 30% test\nX_train, X_test, y_train, y_test= train_test_split(X, y, test_size= 0.3, random_state= 100)"
   },
   "outputs": [],
   "source": [
    "#split the data into 70% train and 30% test\n",
    "X_train, X_test, y_train, y_test= train_test_split(X, y, test_size= 0.3, random_state= 100)"
   ]
  },
  {
   "cell_type": "markdown",
   "id": "ac8a7a90-7094-4929-ac0a-7437abd74f8c",
   "metadata": {},
   "source": [
    "**Method 1:** **Linear Regression Model**"
   ]
  },
  {
   "cell_type": "code",
   "execution_count": 61,
   "id": "a81ee214-bc81-4de9-98ab-a96aafb200db",
   "metadata": {
    "executionTime": 241,
    "lastSuccessfullyExecutedCode": "# baseline model\nsteps= [(\"scaler\", StandardScaler()), (\"lin_reg\", LinearRegression())]\npipeline= Pipeline(steps)\npipeline.fit(X_train, y_train)"
   },
   "outputs": [
    {
     "name": "stdout",
     "output_type": "stream",
     "text": [
      "[0.74723378 0.73398035 0.69408206 0.7540324  0.76068375]\n",
      "0.7380024683958277\n"
     ]
    }
   ],
   "source": [
    "# baseline model\n",
    "steps= [(\"scaler\", StandardScaler()), (\"lin_reg\", LinearRegression())]\n",
    "pipeline= Pipeline(steps)\n",
    "kf = KFold(n_splits=5, random_state=42, shuffle=True)\n",
    "cv= cross_val_score(pipeline, X, y, cv=kf)\n",
    "print(cv)\n",
    "print(np.mean(cv))"
   ]
  },
  {
   "cell_type": "markdown",
   "id": "1f063801-6158-4e7c-985d-3946d92f3a43",
   "metadata": {},
   "source": [
    "**Evaluating Linear Regression Model**"
   ]
  },
  {
   "cell_type": "code",
   "execution_count": 64,
   "id": "ebda1a1e-5ac1-4911-b2d3-e89fd73d9ea4",
   "metadata": {
    "executionTime": 193,
    "lastSuccessfullyExecutedCode": "# Model Evaluation\n# Choose a metric and evaluate the performance of the two models\ny_pred = pipeline.predict(X_test)\nr_squared = pipeline.score(X_test, y_test)\nprint(\"LinearRegression r_squared: {}\".format(r_squared))"
   },
   "outputs": [
    {
     "name": "stdout",
     "output_type": "stream",
     "text": [
      "LinearRegression r_squared: 0.7627174550062974\n"
     ]
    }
   ],
   "source": [
    "# Model Evaluation\n",
    "# Choose a metric and evaluate the performance of the two models\n",
    "pipeline.fit(X_train, y_train)\n",
    "y_pred = pipeline.predict(X_test)\n",
    "r_squared = pipeline.score(X_test, y_test)\n",
    "print(\"LinearRegression r_squared: {}\".format(r_squared))"
   ]
  },
  {
   "cell_type": "markdown",
   "id": "be1e795d-b0fa-4adf-933a-19710654c4b8",
   "metadata": {},
   "source": [
    "**Method 2: Lasso Regression Model.**"
   ]
  },
  {
   "cell_type": "code",
   "execution_count": 29,
   "id": "40f9f45b-8428-4791-914a-a0fcf4d08887",
   "metadata": {
    "executionTime": 204,
    "lastSuccessfullyExecutedCode": "# scaling the features\nsteps= [(\"scaler\", StandardScaler()), (\"lasso\", Lasso(alpha= 0.1))]\npipeline= Pipeline(steps)\npipeline.fit(X_train, y_train)"
   },
   "outputs": [
    {
     "data": {
      "text/plain": [
       "Pipeline(steps=[('scaler', StandardScaler()), ('lasso', Lasso(alpha=0.1))])"
      ]
     },
     "execution_count": 29,
     "metadata": {},
     "output_type": "execute_result"
    }
   ],
   "source": [
    "# scaling the features\n",
    "steps= [(\"scaler\", StandardScaler()), (\"lasso\", Lasso(alpha= 0.1))]\n",
    "pipeline= Pipeline(steps)\n",
    "pipeline.fit(X_train, y_train)"
   ]
  },
  {
   "cell_type": "code",
   "execution_count": 30,
   "id": "15b340be-afb5-4ce3-826e-a119c679acba",
   "metadata": {
    "executionTime": 314,
    "lastSuccessfullyExecutedCode": "# print and plot the coefficients\nnames = pd.get_dummies(features, columns=['day_of_week', 'time', \n                                          'class_category'],drop_first=True).columns\nlasso = Lasso(alpha= 0.1)\nlasso_coef = lasso.fit(X_train, y_train).coef_\nprint(lasso_coef)\nsns.barplot(y=names, x=lasso_coef)\nplt.xlabel(\"Coefficients\")\nplt.title(\"Lasso Importance Features\")\nplt.show()"
   },
   "outputs": [
    {
     "name": "stdout",
     "output_type": "stream",
     "text": [
      "[ 0.27751048  0.         -0.24992011  0.25399689  0.54633207  0.\n",
      " -0.          0.         -0.         -0.         -0.         -0.\n",
      " -0.         -0.          0.          0.        ]\n"
     ]
    },
    {
     "data": {
      "image/png": "[encoded data removed]",
      "text/plain": [
       "<Figure size 432x288 with 1 Axes>"
      ]
     },
     "metadata": {
      "needs_background": "light"
     },
     "output_type": "display_data"
    }
   ],
   "source": [
    "# print and plot the coefficients\n",
    "names = pd.get_dummies(features, columns=['day_of_week', 'time', \n",
    "                                          'class_category'],drop_first=True).columns\n",
    "lasso = Lasso(alpha= 0.1)\n",
    "lasso_coef = lasso.fit(X_train, y_train).coef_\n",
    "print(lasso_coef)\n",
    "sns.barplot(y=names, x=lasso_coef)\n",
    "plt.xlabel(\"Coefficients\")\n",
    "plt.title(\"Lasso Importance Features\")\n",
    "plt.show()"
   ]
  },
  {
   "cell_type": "markdown",
   "id": "869d057d-c9ef-4658-9a86-1ff689cf5130",
   "metadata": {},
   "source": [
    "From the above plot the most **important feature** for our target variable is \"number of member who have join over 6 months\"."
   ]
  },
  {
   "cell_type": "markdown",
   "id": "3ff39fc7-ebca-45c8-bd7e-a87443d6cd2c",
   "metadata": {
    "tags": []
   },
   "source": [
    "## Model Fitting\n",
    "Describe your approach to the model fitting. In your description you should:\n",
    "- Describe what type of machine learning problem you are working on\n",
    "- Describe which method you selected for the baseline model and explain why you chose this model\n",
    "- Describe which method you selected for the comparison model and explain why you chose this model\n",
    "\n",
    "Predicting the attendance rate for each fitness class is a Supervised Machine Learning **Regression task**. I'm choosing a **Linear Regression** as a baseline because it is easy interpret and provide a linear relationship between the explanatory variable and the response variable. The comparision model I'm choosing is **Lasso Regresion** because it is used to select important feature of a dataset."
   ]
  },
  {
   "cell_type": "markdown",
   "id": "f230751c-9c4b-4f9a-9b0b-1d0734c026bf",
   "metadata": {},
   "source": [
    "**Evaluating Lasso Regression Model**"
   ]
  },
  {
   "cell_type": "code",
   "execution_count": 31,
   "id": "9132e7cb-5ee3-4839-b5ba-221e97eec314",
   "metadata": {
    "executionTime": 259,
    "lastSuccessfullyExecutedCode": "y_pred = pipeline.predict(X_test)\nr_squared = pipeline.score(X_test, y_test)\nprint(\"Lasso r_squared value: {}\".format(r_squared))"
   },
   "outputs": [
    {
     "name": "stdout",
     "output_type": "stream",
     "text": [
      "Lasso r_squared value: 0.7591666004032471\n"
     ]
    }
   ],
   "source": [
    "y_pred = pipeline.predict(X_test)\n",
    "r_squared = pipeline.score(X_test, y_test)\n",
    "print(\"Lasso r_squared value: {}\".format(r_squared))"
   ]
  },
  {
   "cell_type": "markdown",
   "id": "3879c71b-3a44-490c-8e48-9d40d9e7c0d9",
   "metadata": {
    "jp-MarkdownHeadingCollapsed": true,
    "tags": []
   },
   "source": [
    "## Model Evaluation\n",
    "Explain what the results of your evaluation tell you. You should:\n",
    "- Describe which metric you have selected to compare the models and why\n",
    "- Explain what the outcome of this evaluation tells you about the performance of your models\n",
    "- Identify, based on the evaluation, which you would consider to be the better performing approach\n",
    "\n",
    "I'm choosing **R_Squared** to evaluate the model because it quantifies the amount of variance in the target values explained by the features.\n",
    " The r_squared value of LinearRegression and Lasso  is **0.76** and **0.75** respectively, which means that LinearRegression prediction is slightly better than lasso regression model when predicting the attendance rate of for each fitness class.\n",
    "  From this model above, we can conclude that the Linear Regression model has a higher chance of predicting the correct attendance rate."
   ]
  },
  {
   "cell_type": "markdown",
   "id": "e88f361e-d4f7-45d9-8c85-3c15a4d3746d",
   "metadata": {
    "tags": []
   },
   "source": [
    "## ✅ When you have finished...\n",
    "- Publish your Workspace using the option on the left\n",
    "- Check the published version of your report:\n",
    "\t- Can you see everything you want us to grade?\n",
    "    - Are all the graphics visible?\n",
    "- Review grading rubric. Have you included everything that will be graded?\n",
    "- Head back to the [Certification Dashboard](https://app.datacamp.com/certification) to submit your practical exam"
   ]
  }
 ],
 "metadata": {
  "colab": {
   "name": "Welcome to DataCamp Workspaces.ipynb",
   "provenance": []
  },
  "editor": "DataCamp Workspace",
  "kernelspec": {
   "display_name": "Python 3 (ipykernel)",
   "language": "python",
   "name": "python3"
  },
  "language_info": {
   "codemirror_mode": {
    "name": "ipython",
    "version": 3
   },
   "file_extension": ".py",
   "mimetype": "text/x-python",
   "name": "python",
   "nbconvert_exporter": "python",
   "pygments_lexer": "ipython3",
   "version": "3.9.12"
  }
 },
 "nbformat": 4,
 "nbformat_minor": 5
}
